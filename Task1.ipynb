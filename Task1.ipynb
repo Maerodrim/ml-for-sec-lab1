{
 "cells": [
  {
   "cell_type": "code",
   "execution_count": 1,
   "metadata": {},
   "outputs": [],
   "source": [
    "import pandas as pd\n",
    "import seaborn as sns\n",
    "import matplotlib.pyplot as plt\n",
    "\n",
    "from sklearn.model_selection import train_test_split"
   ]
  },
  {
   "cell_type": "code",
   "execution_count": 2,
   "metadata": {},
   "outputs": [
    {
     "data": {
      "text/plain": [
       "(2400, 1)"
      ]
     },
     "execution_count": 2,
     "metadata": {},
     "output_type": "execute_result"
    }
   ],
   "source": [
    "features_train = pd.read_csv('features_train.csv')\n",
    "features_train.shape\n",
    "classes_train = pd.read_csv('classes_train.csv')\n",
    "classes_train.shape"
   ]
  },
  {
   "cell_type": "code",
   "execution_count": 3,
   "metadata": {},
   "outputs": [
    {
     "data": {
      "text/html": [
       "<div>\n",
       "<style scoped>\n",
       "    .dataframe tbody tr th:only-of-type {\n",
       "        vertical-align: middle;\n",
       "    }\n",
       "\n",
       "    .dataframe tbody tr th {\n",
       "        vertical-align: top;\n",
       "    }\n",
       "\n",
       "    .dataframe thead th {\n",
       "        text-align: right;\n",
       "    }\n",
       "</style>\n",
       "<table border=\"1\" class=\"dataframe\">\n",
       "  <thead>\n",
       "    <tr style=\"text-align: right;\">\n",
       "      <th></th>\n",
       "      <th>statuses_count</th>\n",
       "      <th>followers_count</th>\n",
       "      <th>friends_count</th>\n",
       "      <th>favourites_count</th>\n",
       "      <th>listed_count</th>\n",
       "      <th>is_default_profile</th>\n",
       "      <th>is_profile_use_background_image</th>\n",
       "      <th>is_verified</th>\n",
       "      <th>user_age</th>\n",
       "      <th>tweets_freq</th>\n",
       "      <th>...</th>\n",
       "      <th>friends_growth_rate</th>\n",
       "      <th>favourites_growth_rate</th>\n",
       "      <th>listed_growth_rate</th>\n",
       "      <th>followers_friends_ratio</th>\n",
       "      <th>screen_name_length</th>\n",
       "      <th>num_digits_in_screen_name</th>\n",
       "      <th>length_of_name</th>\n",
       "      <th>num_digits_in_name</th>\n",
       "      <th>description_length</th>\n",
       "      <th>is_bot</th>\n",
       "    </tr>\n",
       "  </thead>\n",
       "  <tbody>\n",
       "    <tr>\n",
       "      <th>0</th>\n",
       "      <td>5124</td>\n",
       "      <td>6641</td>\n",
       "      <td>3074</td>\n",
       "      <td>13768</td>\n",
       "      <td>126</td>\n",
       "      <td>0</td>\n",
       "      <td>0</td>\n",
       "      <td>1</td>\n",
       "      <td>2711</td>\n",
       "      <td>1.890077</td>\n",
       "      <td>...</td>\n",
       "      <td>1.133899</td>\n",
       "      <td>5.078569</td>\n",
       "      <td>0.046477</td>\n",
       "      <td>2.160377</td>\n",
       "      <td>12</td>\n",
       "      <td>0</td>\n",
       "      <td>14</td>\n",
       "      <td>0</td>\n",
       "      <td>73</td>\n",
       "      <td>0</td>\n",
       "    </tr>\n",
       "    <tr>\n",
       "      <th>1</th>\n",
       "      <td>10672</td>\n",
       "      <td>8465</td>\n",
       "      <td>1575</td>\n",
       "      <td>4561</td>\n",
       "      <td>191</td>\n",
       "      <td>0</td>\n",
       "      <td>1</td>\n",
       "      <td>1</td>\n",
       "      <td>4424</td>\n",
       "      <td>2.412297</td>\n",
       "      <td>...</td>\n",
       "      <td>0.356013</td>\n",
       "      <td>1.030967</td>\n",
       "      <td>0.043174</td>\n",
       "      <td>5.374603</td>\n",
       "      <td>11</td>\n",
       "      <td>0</td>\n",
       "      <td>23</td>\n",
       "      <td>0</td>\n",
       "      <td>142</td>\n",
       "      <td>0</td>\n",
       "    </tr>\n",
       "    <tr>\n",
       "      <th>2</th>\n",
       "      <td>704</td>\n",
       "      <td>3108</td>\n",
       "      <td>454</td>\n",
       "      <td>2400</td>\n",
       "      <td>77</td>\n",
       "      <td>0</td>\n",
       "      <td>0</td>\n",
       "      <td>0</td>\n",
       "      <td>1358</td>\n",
       "      <td>0.518409</td>\n",
       "      <td>...</td>\n",
       "      <td>0.334315</td>\n",
       "      <td>1.767305</td>\n",
       "      <td>0.056701</td>\n",
       "      <td>6.845815</td>\n",
       "      <td>12</td>\n",
       "      <td>0</td>\n",
       "      <td>18</td>\n",
       "      <td>0</td>\n",
       "      <td>90</td>\n",
       "      <td>0</td>\n",
       "    </tr>\n",
       "    <tr>\n",
       "      <th>3</th>\n",
       "      <td>6091</td>\n",
       "      <td>304528</td>\n",
       "      <td>526</td>\n",
       "      <td>599</td>\n",
       "      <td>1515</td>\n",
       "      <td>0</td>\n",
       "      <td>1</td>\n",
       "      <td>1</td>\n",
       "      <td>4214</td>\n",
       "      <td>1.445420</td>\n",
       "      <td>...</td>\n",
       "      <td>0.124822</td>\n",
       "      <td>0.142145</td>\n",
       "      <td>0.359516</td>\n",
       "      <td>578.950570</td>\n",
       "      <td>10</td>\n",
       "      <td>0</td>\n",
       "      <td>11</td>\n",
       "      <td>0</td>\n",
       "      <td>51</td>\n",
       "      <td>0</td>\n",
       "    </tr>\n",
       "    <tr>\n",
       "      <th>4</th>\n",
       "      <td>12967</td>\n",
       "      <td>13693</td>\n",
       "      <td>204</td>\n",
       "      <td>1177</td>\n",
       "      <td>452</td>\n",
       "      <td>0</td>\n",
       "      <td>1</td>\n",
       "      <td>1</td>\n",
       "      <td>3200</td>\n",
       "      <td>4.052187</td>\n",
       "      <td>...</td>\n",
       "      <td>0.063750</td>\n",
       "      <td>0.367812</td>\n",
       "      <td>0.141250</td>\n",
       "      <td>67.122549</td>\n",
       "      <td>13</td>\n",
       "      <td>0</td>\n",
       "      <td>14</td>\n",
       "      <td>0</td>\n",
       "      <td>106</td>\n",
       "      <td>0</td>\n",
       "    </tr>\n",
       "  </tbody>\n",
       "</table>\n",
       "<p>5 rows × 21 columns</p>\n",
       "</div>"
      ],
      "text/plain": [
       "   statuses_count  followers_count  friends_count  favourites_count  \\\n",
       "0            5124             6641           3074             13768   \n",
       "1           10672             8465           1575              4561   \n",
       "2             704             3108            454              2400   \n",
       "3            6091           304528            526               599   \n",
       "4           12967            13693            204              1177   \n",
       "\n",
       "   listed_count  is_default_profile  is_profile_use_background_image  \\\n",
       "0           126                   0                                0   \n",
       "1           191                   0                                1   \n",
       "2            77                   0                                0   \n",
       "3          1515                   0                                1   \n",
       "4           452                   0                                1   \n",
       "\n",
       "   is_verified  user_age  tweets_freq  ...  friends_growth_rate  \\\n",
       "0            1      2711     1.890077  ...             1.133899   \n",
       "1            1      4424     2.412297  ...             0.356013   \n",
       "2            0      1358     0.518409  ...             0.334315   \n",
       "3            1      4214     1.445420  ...             0.124822   \n",
       "4            1      3200     4.052187  ...             0.063750   \n",
       "\n",
       "   favourites_growth_rate  listed_growth_rate  followers_friends_ratio  \\\n",
       "0                5.078569            0.046477                 2.160377   \n",
       "1                1.030967            0.043174                 5.374603   \n",
       "2                1.767305            0.056701                 6.845815   \n",
       "3                0.142145            0.359516               578.950570   \n",
       "4                0.367812            0.141250                67.122549   \n",
       "\n",
       "   screen_name_length  num_digits_in_screen_name  length_of_name  \\\n",
       "0                  12                          0              14   \n",
       "1                  11                          0              23   \n",
       "2                  12                          0              18   \n",
       "3                  10                          0              11   \n",
       "4                  13                          0              14   \n",
       "\n",
       "   num_digits_in_name  description_length  is_bot  \n",
       "0                   0                  73       0  \n",
       "1                   0                 142       0  \n",
       "2                   0                  90       0  \n",
       "3                   0                  51       0  \n",
       "4                   0                 106       0  \n",
       "\n",
       "[5 rows x 21 columns]"
      ]
     },
     "execution_count": 3,
     "metadata": {},
     "output_type": "execute_result"
    }
   ],
   "source": [
    "features_train_new = features_train.copy()\n",
    "features_train_new['is_bot'] = pd.Series(classes_train['is_bot'], index = features_train_new.index)\n",
    "\n",
    "features_train_new.head()"
   ]
  },
  {
   "cell_type": "code",
   "execution_count": 4,
   "metadata": {},
   "outputs": [
    {
     "data": {
      "text/plain": [
       "statuses_count                     2400\n",
       "followers_count                    2400\n",
       "friends_count                      2400\n",
       "favourites_count                   2400\n",
       "listed_count                       2400\n",
       "is_default_profile                 2400\n",
       "is_profile_use_background_image    2400\n",
       "is_verified                        2400\n",
       "user_age                           2400\n",
       "tweets_freq                        2400\n",
       "followers_growth_rate              2400\n",
       "friends_growth_rate                2400\n",
       "favourites_growth_rate             2400\n",
       "listed_growth_rate                 2400\n",
       "followers_friends_ratio            2400\n",
       "screen_name_length                 2400\n",
       "num_digits_in_screen_name          2400\n",
       "length_of_name                     2400\n",
       "num_digits_in_name                 2400\n",
       "description_length                 2400\n",
       "is_bot                             2400\n",
       "dtype: int64"
      ]
     },
     "execution_count": 4,
     "metadata": {},
     "output_type": "execute_result"
    }
   ],
   "source": [
    "features_train_new.count()"
   ]
  },
  {
   "cell_type": "code",
   "execution_count": 5,
   "metadata": {},
   "outputs": [
    {
     "data": {
      "text/plain": [
       "<AxesSubplot:>"
      ]
     },
     "execution_count": 5,
     "metadata": {},
     "output_type": "execute_result"
    },
    {
     "data": {
      "image/png": "[encoded data removed]",
      "text/plain": [
       "<Figure size 720x720 with 2 Axes>"
      ]
     },
     "metadata": {
      "needs_background": "light"
     },
     "output_type": "display_data"
    }
   ],
   "source": [
    "fig, ax = plt.subplots(figsize=(10,10))\n",
    "sns.heatmap(features_train_new.corr(), cmap = \"mako\")"
   ]
  },
  {
   "cell_type": "code",
   "execution_count": 6,
   "metadata": {},
   "outputs": [],
   "source": [
    "X = features_train_new.drop('is_bot', axis = 1)\n",
    "Y = features_train_new.is_bot\n",
    "X_train, X_test, Y_train, Y_test = train_test_split(X, Y, test_size = 0.2, random_state = 42)"
   ]
  },
  {
   "cell_type": "markdown",
   "metadata": {},
   "source": [
    "# 1.1 Обучить модель без каких-либо дополнительных условий, которая должна наилучшим образом отработать на тестовой выборке преподавателя с точки зрения F-меры"
   ]
  },
  {
   "cell_type": "markdown",
   "metadata": {},
   "source": [
    "F-мера average =\n",
    "binary - результаты только для класса, указанного параметром pos_label\n",
    "micro - глобально, подсчитывая общее количество истинных срабатываний, ложноотрицательных и ложноположительных результатов\n",
    "macro - для каждой метки, находит их невзвешенное среднее значение\n",
    "weighted - для каждой метки, находит их взвешенное среднее значение"
   ]
  },
  {
   "cell_type": "code",
   "execution_count": 27,
   "metadata": {},
   "outputs": [],
   "source": [
    "import numpy as np\n",
    "import joblib\n",
    "\n",
    "from sklearn.linear_model import LogisticRegression\n",
    "from sklearn.neighbors import KNeighborsClassifier\n",
    "from sklearn.tree import DecisionTreeClassifier\n",
    "from sklearn.ensemble import RandomForestClassifier\n",
    "\n",
    "from sklearn.pipeline import Pipeline\n",
    "from sklearn.preprocessing import StandardScaler\n",
    "from sklearn.metrics import f1_score, accuracy_score"
   ]
  },
  {
   "cell_type": "code",
   "execution_count": 8,
   "metadata": {},
   "outputs": [],
   "source": [
    "F_measure = {'LogisticRegression':0, \n",
    "             'KNeighborsClassifier':0, \n",
    "             'DecisionTreeClassifier':0,\n",
    "             'RandomForestClassifier':0 }"
   ]
  },
  {
   "cell_type": "code",
   "execution_count": 9,
   "metadata": {},
   "outputs": [],
   "source": [
    "Log = LogisticRegression()\n",
    "scaler = StandardScaler()\n",
    "\n",
    "X_train_M = scaler.fit_transform(X_train)\n",
    "X_test_M = scaler.transform(X_test)\n",
    "\n",
    "model_Log = LogisticRegression() \n",
    "model_Log.fit(X_train_M, Y_train)\n",
    "Y_Log = model_Log.predict(X_test_M)\n",
    "\n",
    "F_measure['LogisticRegression'] = f1_score(Y_test, Y_Log, average = \"weighted\")"
   ]
  },
  {
   "cell_type": "code",
   "execution_count": 10,
   "metadata": {},
   "outputs": [],
   "source": [
    "KNN = KNeighborsClassifier()\n",
    "scaler = StandardScaler()\n",
    "\n",
    "steps_KNN = [('normalizer', scaler), ('KNN', KNN)]\n",
    "pipe_KNN = Pipeline(steps_KNN)\n",
    "\n",
    "model_KNN = KNeighborsClassifier()\n",
    "model_KNN.fit(X_train, Y_train)\n",
    "Y_KNN = model_KNN.predict(X_test)\n",
    "\n",
    "F_measure['KNeighborsClassifier'] = f1_score(Y_test, Y_KNN, average = \"weighted\")"
   ]
  },
  {
   "cell_type": "code",
   "execution_count": 11,
   "metadata": {},
   "outputs": [],
   "source": [
    "DTC = DecisionTreeClassifier()\n",
    "scaler = StandardScaler()\n",
    "\n",
    "steps_DTC = [('normalizer', scaler), ('DTC', DTC)]\n",
    "pipe_DTC = Pipeline(steps_DTC)\n",
    "\n",
    "model_DTC = DecisionTreeClassifier()\n",
    "model_DTC.fit(X_train, Y_train)\n",
    "Y_DTC = model_DTC.predict(X_test)\n",
    "\n",
    "F_measure['DecisionTreeClassifier'] = f1_score(Y_test, Y_DTC, average = \"weighted\")"
   ]
  },
  {
   "cell_type": "code",
   "execution_count": 12,
   "metadata": {},
   "outputs": [],
   "source": [
    "RFC = RandomForestClassifier()\n",
    "scaler = StandardScaler()\n",
    "\n",
    "steps_RFC = [('normalizer', scaler), ('RFC', RFC)]\n",
    "pipe_RFC = Pipeline(steps_RFC)\n",
    "\n",
    "model_RFC = RandomForestClassifier()\n",
    "model_RFC.fit(X_train, Y_train)\n",
    "Y_RFC = model_RFC.predict(X_test)\n",
    "\n",
    "F_measure['RandomForestClassifier'] = f1_score(Y_test, Y_RFC, average = \"weighted\")"
   ]
  },
  {
   "cell_type": "code",
   "execution_count": 13,
   "metadata": {},
   "outputs": [
    {
     "name": "stdout",
     "output_type": "stream",
     "text": [
      "Model: LogisticRegression  F_measure: 0.9979196625091709\n",
      "Model: KNeighborsClassifier  F_measure: 0.9684173873586913\n",
      "Model: DecisionTreeClassifier  F_measure: 0.9958333333333333\n",
      "Model: RandomForestClassifier  F_measure: 0.9979136288232552\n",
      "Best model: LogisticRegression  F_measure: 0.9979196625091709\n"
     ]
    }
   ],
   "source": [
    "maxim = -1\n",
    "for i, j in F_measure.items():\n",
    "    print ('Model:', i, ' F_measure:', j)\n",
    "    if j > maxim:\n",
    "        maxim = j\n",
    "        model_max = i\n",
    "        \n",
    "print ('Best model:', model_max, ' F_measure:', maxim)"
   ]
  },
  {
   "cell_type": "code",
   "execution_count": 14,
   "metadata": {},
   "outputs": [],
   "source": [
    "joblib.dump(model_Log, 'best_model-1.1.pkl')\n",
    "best_model = model_Log"
   ]
  },
  {
   "cell_type": "markdown",
   "metadata": {},
   "source": [
    "# 2.1. Максимально логичным образом обучить качественную модель, использующую для работы только 10 признаков из всего множества."
   ]
  },
  {
   "cell_type": "markdown",
   "metadata": {},
   "source": [
    "# Описание набора признаков\n",
    "# Признаки, взятые непосредственно из профиля пользователя\n",
    "\n",
    "Название признака \tОписание \n",
    "\n",
    "statuses_count \tКоличество твитов пользователя\n",
    "\n",
    "followers_count \tКоличество подписчиков пользователя \n",
    "\n",
    "friends_count \tКоличество подписок пользователя \n",
    "\n",
    "favourites_count \tКоличество твитов в разделе понравившихся \n",
    "\n",
    "listed_count \tКоличество твитов в разделе закрепленных твитов \n",
    "\n",
    "is_default_profile \tИспользует ли профиль изображение по умолчанию \n",
    "\n",
    "is_verified \tВерифицирован ли данный аккаунт \n",
    "\n",
    "is_profile_use_background_image \tИспользует ли аккаунт фоновое изображение для своей страницы \n",
    "\n",
    "# Подсчитанные признаки \n",
    "\n",
    "Название признака \tОписание \n",
    "\n",
    "user_age \tВремя существования аккаунта в днях \n",
    "\n",
    "tweet_freq \tОтношения числа твиттов к времени существования аккаунта \n",
    "\n",
    "followers_growth_rate \tОтношение числа подписчиков к времени существования аккаунта \n",
    "\n",
    "friends_growth_rate \tОтношение числа подписок к времени существования аккаунта \n",
    "\n",
    "favourites_growth_rate \tОтношение числа понравившихся твиттов к времени существования аккаунта \n",
    "\n",
    "listed_growth_rate \tОтношение числа твиттов из раздела закрепленных к времени существования аккаунта \n",
    "\n",
    "followers_friends_ratio \tОтношение числа подписок к числу подписчиков \n",
    "\n",
    "screen_name_length \tДлина ника пользователя \n",
    "\n",
    "num_digits_in_screen_name \tКоличество цифр в нике пользователя \n",
    "\n",
    "length_of_name \tДлина имени пользователя \n",
    "\n",
    "num_digits_in_name \tКоличество цифр в имени пользователя \n",
    "\n",
    "description_length \tДлина описания аккаунта пользователя \n"
   ]
  },
  {
   "cell_type": "code",
   "execution_count": 15,
   "metadata": {},
   "outputs": [],
   "source": [
    "import pandas as pd\n",
    "import seaborn as sns\n",
    "\n",
    "from sklearn.model_selection import train_test_split\n",
    "from sklearn.preprocessing import StandardScaler\n",
    "from sklearn.linear_model import LinearRegression"
   ]
  },
  {
   "cell_type": "code",
   "execution_count": 16,
   "metadata": {},
   "outputs": [
    {
     "data": {
      "text/plain": [
       "((1920, 20), (480, 20))"
      ]
     },
     "execution_count": 16,
     "metadata": {},
     "output_type": "execute_result"
    }
   ],
   "source": [
    "features_train = pd.read_csv('features_train.csv')\n",
    "classes_train = pd.read_csv('classes_train.csv')\n",
    "features_train_new = features_train.copy()\n",
    "features_train_new['is_bot'] = pd.Series(classes_train['is_bot'], index = features_train_new.index)\n",
    "X = features_train_new.drop('is_bot', axis = 1)\n",
    "Y = features_train_new.is_bot\n",
    "X_train, X_test, Y_train, Y_test = train_test_split(X, Y, test_size = 0.2, random_state = 42)\n",
    "X_train.shape, X_test.shape"
   ]
  },
  {
   "cell_type": "code",
   "execution_count": 17,
   "metadata": {},
   "outputs": [],
   "source": [
    "scaler = StandardScaler()\n",
    "X_train_M = scaler.fit_transform(X_train)\n",
    "X_test_M = scaler.transform(X_test)"
   ]
  },
  {
   "cell_type": "code",
   "execution_count": 18,
   "metadata": {},
   "outputs": [],
   "source": [
    "best_model.fit(X_train_M, Y_train)\n",
    "pred_train = best_model.predict(X_train_M)\n",
    "pred_test = best_model.predict(X_test_M)"
   ]
  },
  {
   "cell_type": "code",
   "execution_count": 19,
   "metadata": {},
   "outputs": [
    {
     "name": "stdout",
     "output_type": "stream",
     "text": [
      "    importance                        attribute\n",
      "7     0.384192                      is_verified\n",
      "4     0.057691                     listed_count\n",
      "13    0.056920               listed_growth_rate\n",
      "8     0.045783                         user_age\n",
      "12    0.029515           favourites_growth_rate\n",
      "11    0.028347              friends_growth_rate\n",
      "2     0.027594                    friends_count\n",
      "3     0.027539                 favourites_count\n",
      "1     0.015944                  followers_count\n",
      "10    0.014833            followers_growth_rate\n",
      "16    0.006038        num_digits_in_screen_name\n",
      "9     0.005049                      tweets_freq\n",
      "6     0.004217  is_profile_use_background_image\n",
      "5     0.004120               is_default_profile\n",
      "14    0.003185          followers_friends_ratio\n",
      "17    0.002368                   length_of_name\n",
      "18    0.001434               num_digits_in_name\n",
      "15    0.000598               screen_name_length\n",
      "19    0.000416               description_length\n",
      "0     0.000253                   statuses_count\n"
     ]
    },
    {
     "data": {
      "image/png": "[encoded data removed]",
      "text/plain": [
       "<Figure size 432x288 with 1 Axes>"
      ]
     },
     "metadata": {
      "needs_background": "light"
     },
     "output_type": "display_data"
    }
   ],
   "source": [
    "model_regress = LinearRegression()\n",
    "model_regress.fit(X_train_M, Y_train)\n",
    "pred_train = model_regress.predict(X_train_M)\n",
    "pred_test = model_regress.predict(X_test_M)\n",
    "attribute = X_train.columns.values\n",
    "importance = abs(model_regress.coef_)\n",
    "list1 = pd.DataFrame(data = {'importance': importance, 'attribute': X_train.columns, }).sort_values(by = 'importance')\n",
    "list2 = list1.sort_values(by='importance', ascending=False)\n",
    "sns.barplot(data = list2, y = 'attribute', x = 'importance')\n",
    "print(list2)"
   ]
  },
  {
   "cell_type": "code",
   "execution_count": 20,
   "metadata": {},
   "outputs": [
    {
     "data": {
      "text/html": [
       "<div>\n",
       "<style scoped>\n",
       "    .dataframe tbody tr th:only-of-type {\n",
       "        vertical-align: middle;\n",
       "    }\n",
       "\n",
       "    .dataframe tbody tr th {\n",
       "        vertical-align: top;\n",
       "    }\n",
       "\n",
       "    .dataframe thead th {\n",
       "        text-align: right;\n",
       "    }\n",
       "</style>\n",
       "<table border=\"1\" class=\"dataframe\">\n",
       "  <thead>\n",
       "    <tr style=\"text-align: right;\">\n",
       "      <th></th>\n",
       "      <th>followers_count</th>\n",
       "      <th>friends_count</th>\n",
       "      <th>favourites_count</th>\n",
       "      <th>listed_count</th>\n",
       "      <th>is_verified</th>\n",
       "      <th>user_age</th>\n",
       "      <th>followers_growth_rate</th>\n",
       "      <th>friends_growth_rate</th>\n",
       "      <th>favourites_growth_rate</th>\n",
       "      <th>listed_growth_rate</th>\n",
       "      <th>is_bot</th>\n",
       "    </tr>\n",
       "  </thead>\n",
       "  <tbody>\n",
       "    <tr>\n",
       "      <th>0</th>\n",
       "      <td>6641</td>\n",
       "      <td>3074</td>\n",
       "      <td>13768</td>\n",
       "      <td>126</td>\n",
       "      <td>1</td>\n",
       "      <td>2711</td>\n",
       "      <td>2.449650</td>\n",
       "      <td>1.133899</td>\n",
       "      <td>5.078569</td>\n",
       "      <td>0.046477</td>\n",
       "      <td>0</td>\n",
       "    </tr>\n",
       "    <tr>\n",
       "      <th>1</th>\n",
       "      <td>8465</td>\n",
       "      <td>1575</td>\n",
       "      <td>4561</td>\n",
       "      <td>191</td>\n",
       "      <td>1</td>\n",
       "      <td>4424</td>\n",
       "      <td>1.913427</td>\n",
       "      <td>0.356013</td>\n",
       "      <td>1.030967</td>\n",
       "      <td>0.043174</td>\n",
       "      <td>0</td>\n",
       "    </tr>\n",
       "    <tr>\n",
       "      <th>2</th>\n",
       "      <td>3108</td>\n",
       "      <td>454</td>\n",
       "      <td>2400</td>\n",
       "      <td>77</td>\n",
       "      <td>0</td>\n",
       "      <td>1358</td>\n",
       "      <td>2.288660</td>\n",
       "      <td>0.334315</td>\n",
       "      <td>1.767305</td>\n",
       "      <td>0.056701</td>\n",
       "      <td>0</td>\n",
       "    </tr>\n",
       "    <tr>\n",
       "      <th>3</th>\n",
       "      <td>304528</td>\n",
       "      <td>526</td>\n",
       "      <td>599</td>\n",
       "      <td>1515</td>\n",
       "      <td>1</td>\n",
       "      <td>4214</td>\n",
       "      <td>72.265781</td>\n",
       "      <td>0.124822</td>\n",
       "      <td>0.142145</td>\n",
       "      <td>0.359516</td>\n",
       "      <td>0</td>\n",
       "    </tr>\n",
       "    <tr>\n",
       "      <th>4</th>\n",
       "      <td>13693</td>\n",
       "      <td>204</td>\n",
       "      <td>1177</td>\n",
       "      <td>452</td>\n",
       "      <td>1</td>\n",
       "      <td>3200</td>\n",
       "      <td>4.279063</td>\n",
       "      <td>0.063750</td>\n",
       "      <td>0.367812</td>\n",
       "      <td>0.141250</td>\n",
       "      <td>0</td>\n",
       "    </tr>\n",
       "  </tbody>\n",
       "</table>\n",
       "</div>"
      ],
      "text/plain": [
       "   followers_count  friends_count  favourites_count  listed_count  \\\n",
       "0             6641           3074             13768           126   \n",
       "1             8465           1575              4561           191   \n",
       "2             3108            454              2400            77   \n",
       "3           304528            526               599          1515   \n",
       "4            13693            204              1177           452   \n",
       "\n",
       "   is_verified  user_age  followers_growth_rate  friends_growth_rate  \\\n",
       "0            1      2711               2.449650             1.133899   \n",
       "1            1      4424               1.913427             0.356013   \n",
       "2            0      1358               2.288660             0.334315   \n",
       "3            1      4214              72.265781             0.124822   \n",
       "4            1      3200               4.279063             0.063750   \n",
       "\n",
       "   favourites_growth_rate  listed_growth_rate  is_bot  \n",
       "0                5.078569            0.046477       0  \n",
       "1                1.030967            0.043174       0  \n",
       "2                1.767305            0.056701       0  \n",
       "3                0.142145            0.359516       0  \n",
       "4                0.367812            0.141250       0  "
      ]
     },
     "execution_count": 20,
     "metadata": {},
     "output_type": "execute_result"
    }
   ],
   "source": [
    "df_best = features_train_new.drop(columns = ['num_digits_in_screen_name', \n",
    "                           'tweets_freq', \n",
    "                            'is_profile_use_background_image', \n",
    "                            'is_default_profile',\n",
    "                            'followers_friends_ratio', \n",
    "                            'length_of_name',\n",
    "                            'num_digits_in_name', \n",
    "                            'screen_name_length', \n",
    "                            'description_length',\n",
    "                            'statuses_count'])\n",
    "\n",
    "df_best.head()"
   ]
  },
  {
   "cell_type": "code",
   "execution_count": 22,
   "metadata": {
    "pycharm": {
     "name": "#%%\n"
    }
   },
   "outputs": [],
   "source": [
    "X_best = df_best.drop('is_bot', axis = 1)\n",
    "Y_best = df_best.is_bot\n",
    "X_train_best, X_test_best, Y_train_best, Y_test_best = train_test_split(X_best, Y_best, test_size = 0.2, random_state = 42)"
   ]
  },
  {
   "cell_type": "code",
   "execution_count": null,
   "outputs": [],
   "source": [
    "X_train_M = scaler.fit_transform(X_train_best)\n",
    "X_test_M = scaler.transform(X_test_best)\n",
    "\n",
    "best_model.fit(X_train_M, Y_train_best)\n",
    "Y_Log = best_model.predict(X_test_M)\n",
    "\n",
    "print ('Best model F_measure:', f1_score(Y_test_best, Y_Log, average = \"weighted\"),'accuracy: ', accuracy_score(Y_test_best, Y_Log))"
   ],
   "metadata": {
    "collapsed": false,
    "pycharm": {
     "name": "#%%\n"
    }
   }
  },
  {
   "cell_type": "code",
   "execution_count": null,
   "outputs": [],
   "source": [
    "joblib.dump(best_model, 'best_model-2.1.pkl')"
   ],
   "metadata": {
    "collapsed": false,
    "pycharm": {
     "name": "#%%\n"
    }
   }
  },
  {
   "cell_type": "markdown",
   "source": [
    "# 2.2.\tОбучить модель, обеспечивающую вероятность пропуска бота на уровне не выше 0.03, и имеющую насколько возможно низкую вероятность ложного обнаружения. "
   ],
   "metadata": {
    "collapsed": false
   }
  },
  {
   "cell_type": "markdown",
   "source": [
    "В теории при точности 0.9958333333333333 мы имеем вероятность пропуска бота уже ниже 0.03"
   ],
   "metadata": {
    "collapsed": false
   }
  },
  {
   "cell_type": "code",
   "execution_count": null,
   "outputs": [],
   "source": [
    "from sklearn.metrics import confusion_matrix"
   ],
   "metadata": {
    "collapsed": false,
    "pycharm": {
     "name": "#%%\n"
    }
   }
  },
  {
   "cell_type": "code",
   "execution_count": null,
   "outputs": [],
   "source": [
    "X_train_M = scaler.fit_transform(X_train_best)\n",
    "X_test_M = scaler.transform(X_test_best)\n",
    "best_model.fit(X_train_M, Y_train_best)\n",
    "Y_Log = best_model.predict(X_test_M)"
   ],
   "metadata": {
    "collapsed": false,
    "pycharm": {
     "name": "#%%\n"
    }
   }
  },
  {
   "cell_type": "code",
   "execution_count": null,
   "outputs": [],
   "source": [
    "conf_mat = confusion_matrix(Y_test_best, Y_Log)\n",
    "num_classes = 2\n",
    "FP_val = []\n",
    "for i in range(num_classes):\n",
    "    FP_val.append(sum(conf_mat[:,i]) - conf_mat[i,i])\n",
    "FP = sum(FP_val)\n",
    "    \n",
    "FN_val = []\n",
    "for i in range(num_classes):\n",
    "    FN_val.append(sum(conf_mat[i,:]) - conf_mat[i,i])\n",
    "FN = (sum(FN_val))\n",
    "\n",
    "Error = FP / Y_test_best.shape[0] +  FN / Y_test_best.shape[0]"
   ],
   "metadata": {
    "collapsed": false,
    "pycharm": {
     "name": "#%%\n"
    }
   }
  },
  {
   "cell_type": "code",
   "execution_count": null,
   "outputs": [],
   "source": [
    "Error"
   ],
   "metadata": {
    "collapsed": false,
    "pycharm": {
     "name": "#%%\n"
    }
   }
  },
  {
   "cell_type": "code",
   "execution_count": 28,
   "metadata": {},
   "outputs": [
    {
     "name": "stdout",
     "output_type": "stream",
     "text": [
      "Best model F_measure: 0.9958333333333333 accuracy:  0.9958333333333333\n"
     ]
    }
   ],
   "source": []
  },
  {
   "cell_type": "code",
   "execution_count": 24,
   "metadata": {},
   "outputs": [
    {
     "data": {
      "text/plain": [
       "['best_model-2.1.pkl']"
      ]
     },
     "execution_count": 24,
     "metadata": {},
     "output_type": "execute_result"
    }
   ],
   "source": [
    "joblib.dump(best_model, 'best_model-2.1.pkl')"
   ]
  },
  {
   "cell_type": "markdown",
   "metadata": {},
   "source": [
    "# 2.2.\tОбучить модель, обеспечивающую вероятность пропуска бота на уровне не выше 0.03, и имеющую насколько возможно низкую вероятность ложного обнаружения. "
   ]
  },
  {
   "cell_type": "markdown",
   "metadata": {},
   "source": [
    "В теории при точности 0.9958333333333333 мы имеем вероятность пропуска бота уже ниже 0.03"
   ]
  },
  {
   "cell_type": "code",
   "execution_count": 31,
   "metadata": {},
   "outputs": [],
   "source": [
    "from sklearn.metrics import confusion_matrix"
   ]
  },
  {
   "cell_type": "code",
   "execution_count": 34,
   "metadata": {},
   "outputs": [],
   "source": [
    "X_train_M = scaler.fit_transform(X_train_best)\n",
    "X_test_M = scaler.transform(X_test_best)\n",
    "best_model.fit(X_train_M, Y_train_best)\n",
    "Y_Log = best_model.predict(X_test_M)"
   ]
  },
  {
   "cell_type": "code",
   "execution_count": 38,
   "metadata": {},
   "outputs": [],
   "source": [
    "conf_mat = confusion_matrix(Y_test_best, Y_Log)\n",
    "num_classes = 2\n",
    "FP_val = []\n",
    "for i in range(num_classes):\n",
    "    FP_val.append(sum(conf_mat[:,i]) - conf_mat[i,i])\n",
    "FP = sum(FP_val)\n",
    "    \n",
    "FN_val = []\n",
    "for i in range(num_classes):\n",
    "    FN_val.append(sum(conf_mat[i,:]) - conf_mat[i,i])\n",
    "FN = (sum(FN_val))\n",
    "\n",
    "Error = FP / Y_test_best.shape[0] +  FN / Y_test_best.shape[0]"
   ]
  },
  {
   "cell_type": "code",
   "execution_count": 39,
   "metadata": {},
   "outputs": [
    {
     "data": {
      "text/plain": [
       "0.008333333333333333"
      ]
     },
     "execution_count": 39,
     "metadata": {},
     "output_type": "execute_result"
    }
   ],
   "source": [
    "Error"
   ]
  },
  {
   "cell_type": "code",
   "execution_count": null,
   "metadata": {},
   "outputs": [],
   "source": []
  }
 ],
 "metadata": {
  "kernelspec": {
   "display_name": "Python 3 (ipykernel)",
   "language": "python",
   "name": "python3"
  },
  "language_info": {
   "codemirror_mode": {
    "name": "ipython",
    "version": 3
   },
   "file_extension": ".py",
   "mimetype": "text/x-python",
   "name": "python",
   "nbconvert_exporter": "python",
   "pygments_lexer": "ipython3",
   "version": "3.9.6"
  }
 },
 "nbformat": 4,
 "nbformat_minor": 1
}