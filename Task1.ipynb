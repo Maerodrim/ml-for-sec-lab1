{
 "cells": [
  {
   "cell_type": "code",
   "execution_count": 21,
   "metadata": {},
   "outputs": [],
   "source": [
    "import pandas as pd\n",
    "import seaborn as sns\n",
    "import matplotlib.pyplot as plt"
   ]
  },
  {
   "cell_type": "code",
   "execution_count": 22,
   "metadata": {},
   "outputs": [
    {
     "data": {
      "text/plain": [
       "(2400, 1)"
      ]
     },
     "execution_count": 22,
     "metadata": {},
     "output_type": "execute_result"
    }
   ],
   "source": [
    "features_train = pd.read_csv('features_train.csv')\n",
    "features_train.shape\n",
    "classes_train = pd.read_csv('classes_train.csv')\n",
    "classes_train.shape"
   ]
  },
  {
   "cell_type": "code",
   "execution_count": 23,
   "metadata": {},
   "outputs": [
    {
     "data": {
      "text/html": [
       "<div>\n",
       "<style scoped>\n",
       "    .dataframe tbody tr th:only-of-type {\n",
       "        vertical-align: middle;\n",
       "    }\n",
       "\n",
       "    .dataframe tbody tr th {\n",
       "        vertical-align: top;\n",
       "    }\n",
       "\n",
       "    .dataframe thead th {\n",
       "        text-align: right;\n",
       "    }\n",
       "</style>\n",
       "<table border=\"1\" class=\"dataframe\">\n",
       "  <thead>\n",
       "    <tr style=\"text-align: right;\">\n",
       "      <th></th>\n",
       "      <th>statuses_count</th>\n",
       "      <th>followers_count</th>\n",
       "      <th>friends_count</th>\n",
       "      <th>favourites_count</th>\n",
       "      <th>listed_count</th>\n",
       "      <th>is_default_profile</th>\n",
       "      <th>is_profile_use_background_image</th>\n",
       "      <th>is_verified</th>\n",
       "      <th>user_age</th>\n",
       "      <th>tweets_freq</th>\n",
       "      <th>...</th>\n",
       "      <th>friends_growth_rate</th>\n",
       "      <th>favourites_growth_rate</th>\n",
       "      <th>listed_growth_rate</th>\n",
       "      <th>followers_friends_ratio</th>\n",
       "      <th>screen_name_length</th>\n",
       "      <th>num_digits_in_screen_name</th>\n",
       "      <th>length_of_name</th>\n",
       "      <th>num_digits_in_name</th>\n",
       "      <th>description_length</th>\n",
       "      <th>is_bot</th>\n",
       "    </tr>\n",
       "  </thead>\n",
       "  <tbody>\n",
       "    <tr>\n",
       "      <th>0</th>\n",
       "      <td>5124</td>\n",
       "      <td>6641</td>\n",
       "      <td>3074</td>\n",
       "      <td>13768</td>\n",
       "      <td>126</td>\n",
       "      <td>0</td>\n",
       "      <td>0</td>\n",
       "      <td>1</td>\n",
       "      <td>2711</td>\n",
       "      <td>1.890077</td>\n",
       "      <td>...</td>\n",
       "      <td>1.133899</td>\n",
       "      <td>5.078569</td>\n",
       "      <td>0.046477</td>\n",
       "      <td>2.160377</td>\n",
       "      <td>12</td>\n",
       "      <td>0</td>\n",
       "      <td>14</td>\n",
       "      <td>0</td>\n",
       "      <td>73</td>\n",
       "      <td>0</td>\n",
       "    </tr>\n",
       "    <tr>\n",
       "      <th>1</th>\n",
       "      <td>10672</td>\n",
       "      <td>8465</td>\n",
       "      <td>1575</td>\n",
       "      <td>4561</td>\n",
       "      <td>191</td>\n",
       "      <td>0</td>\n",
       "      <td>1</td>\n",
       "      <td>1</td>\n",
       "      <td>4424</td>\n",
       "      <td>2.412297</td>\n",
       "      <td>...</td>\n",
       "      <td>0.356013</td>\n",
       "      <td>1.030967</td>\n",
       "      <td>0.043174</td>\n",
       "      <td>5.374603</td>\n",
       "      <td>11</td>\n",
       "      <td>0</td>\n",
       "      <td>23</td>\n",
       "      <td>0</td>\n",
       "      <td>142</td>\n",
       "      <td>0</td>\n",
       "    </tr>\n",
       "    <tr>\n",
       "      <th>2</th>\n",
       "      <td>704</td>\n",
       "      <td>3108</td>\n",
       "      <td>454</td>\n",
       "      <td>2400</td>\n",
       "      <td>77</td>\n",
       "      <td>0</td>\n",
       "      <td>0</td>\n",
       "      <td>0</td>\n",
       "      <td>1358</td>\n",
       "      <td>0.518409</td>\n",
       "      <td>...</td>\n",
       "      <td>0.334315</td>\n",
       "      <td>1.767305</td>\n",
       "      <td>0.056701</td>\n",
       "      <td>6.845815</td>\n",
       "      <td>12</td>\n",
       "      <td>0</td>\n",
       "      <td>18</td>\n",
       "      <td>0</td>\n",
       "      <td>90</td>\n",
       "      <td>0</td>\n",
       "    </tr>\n",
       "    <tr>\n",
       "      <th>3</th>\n",
       "      <td>6091</td>\n",
       "      <td>304528</td>\n",
       "      <td>526</td>\n",
       "      <td>599</td>\n",
       "      <td>1515</td>\n",
       "      <td>0</td>\n",
       "      <td>1</td>\n",
       "      <td>1</td>\n",
       "      <td>4214</td>\n",
       "      <td>1.445420</td>\n",
       "      <td>...</td>\n",
       "      <td>0.124822</td>\n",
       "      <td>0.142145</td>\n",
       "      <td>0.359516</td>\n",
       "      <td>578.950570</td>\n",
       "      <td>10</td>\n",
       "      <td>0</td>\n",
       "      <td>11</td>\n",
       "      <td>0</td>\n",
       "      <td>51</td>\n",
       "      <td>0</td>\n",
       "    </tr>\n",
       "    <tr>\n",
       "      <th>4</th>\n",
       "      <td>12967</td>\n",
       "      <td>13693</td>\n",
       "      <td>204</td>\n",
       "      <td>1177</td>\n",
       "      <td>452</td>\n",
       "      <td>0</td>\n",
       "      <td>1</td>\n",
       "      <td>1</td>\n",
       "      <td>3200</td>\n",
       "      <td>4.052187</td>\n",
       "      <td>...</td>\n",
       "      <td>0.063750</td>\n",
       "      <td>0.367812</td>\n",
       "      <td>0.141250</td>\n",
       "      <td>67.122549</td>\n",
       "      <td>13</td>\n",
       "      <td>0</td>\n",
       "      <td>14</td>\n",
       "      <td>0</td>\n",
       "      <td>106</td>\n",
       "      <td>0</td>\n",
       "    </tr>\n",
       "  </tbody>\n",
       "</table>\n",
       "<p>5 rows × 21 columns</p>\n",
       "</div>"
      ],
      "text/plain": [
       "   statuses_count  followers_count  friends_count  favourites_count  \\\n",
       "0            5124             6641           3074             13768   \n",
       "1           10672             8465           1575              4561   \n",
       "2             704             3108            454              2400   \n",
       "3            6091           304528            526               599   \n",
       "4           12967            13693            204              1177   \n",
       "\n",
       "   listed_count  is_default_profile  is_profile_use_background_image  \\\n",
       "0           126                   0                                0   \n",
       "1           191                   0                                1   \n",
       "2            77                   0                                0   \n",
       "3          1515                   0                                1   \n",
       "4           452                   0                                1   \n",
       "\n",
       "   is_verified  user_age  tweets_freq  ...  friends_growth_rate  \\\n",
       "0            1      2711     1.890077  ...             1.133899   \n",
       "1            1      4424     2.412297  ...             0.356013   \n",
       "2            0      1358     0.518409  ...             0.334315   \n",
       "3            1      4214     1.445420  ...             0.124822   \n",
       "4            1      3200     4.052187  ...             0.063750   \n",
       "\n",
       "   favourites_growth_rate  listed_growth_rate  followers_friends_ratio  \\\n",
       "0                5.078569            0.046477                 2.160377   \n",
       "1                1.030967            0.043174                 5.374603   \n",
       "2                1.767305            0.056701                 6.845815   \n",
       "3                0.142145            0.359516               578.950570   \n",
       "4                0.367812            0.141250                67.122549   \n",
       "\n",
       "   screen_name_length  num_digits_in_screen_name  length_of_name  \\\n",
       "0                  12                          0              14   \n",
       "1                  11                          0              23   \n",
       "2                  12                          0              18   \n",
       "3                  10                          0              11   \n",
       "4                  13                          0              14   \n",
       "\n",
       "   num_digits_in_name  description_length  is_bot  \n",
       "0                   0                  73       0  \n",
       "1                   0                 142       0  \n",
       "2                   0                  90       0  \n",
       "3                   0                  51       0  \n",
       "4                   0                 106       0  \n",
       "\n",
       "[5 rows x 21 columns]"
      ]
     },
     "execution_count": 23,
     "metadata": {},
     "output_type": "execute_result"
    }
   ],
   "source": [
    "features_train_new = features_train.copy()\n",
    "features_train_new['is_bot'] = pd.Series(classes_train['is_bot'], index = features_train_new.index)\n",
    "\n",
    "features_train_new.head()"
   ]
  },
  {
   "cell_type": "code",
   "execution_count": 24,
   "metadata": {},
   "outputs": [
    {
     "data": {
      "text/plain": [
       "statuses_count                     2400\n",
       "followers_count                    2400\n",
       "friends_count                      2400\n",
       "favourites_count                   2400\n",
       "listed_count                       2400\n",
       "is_default_profile                 2400\n",
       "is_profile_use_background_image    2400\n",
       "is_verified                        2400\n",
       "user_age                           2400\n",
       "tweets_freq                        2400\n",
       "followers_growth_rate              2400\n",
       "friends_growth_rate                2400\n",
       "favourites_growth_rate             2400\n",
       "listed_growth_rate                 2400\n",
       "followers_friends_ratio            2400\n",
       "screen_name_length                 2400\n",
       "num_digits_in_screen_name          2400\n",
       "length_of_name                     2400\n",
       "num_digits_in_name                 2400\n",
       "description_length                 2400\n",
       "is_bot                             2400\n",
       "dtype: int64"
      ]
     },
     "execution_count": 24,
     "metadata": {},
     "output_type": "execute_result"
    }
   ],
   "source": [
    "features_train_new.count()"
   ]
  },
  {
   "cell_type": "code",
   "execution_count": 25,
   "metadata": {},
   "outputs": [
    {
     "data": {
      "text/plain": [
       "<AxesSubplot:>"
      ]
     },
     "execution_count": 25,
     "metadata": {},
     "output_type": "execute_result"
    },
    {
     "data": {
      "image/png": "[encoded data removed]",
      "text/plain": [
       "<Figure size 720x720 with 2 Axes>"
      ]
     },
     "metadata": {
      "needs_background": "light"
     },
     "output_type": "display_data"
    }
   ],
   "source": [
    "fig, ax = plt.subplots(figsize=(10,10))\n",
    "sns.heatmap(features_train_new.corr(), cmap = \"mako\")"
   ]
  },
  {
   "cell_type": "code",
   "execution_count": 40,
   "metadata": {},
   "outputs": [],
   "source": [
    "X = features_train_new.drop('is_bot', axis = 1)\n",
    "Y = features_train_new.is_bot\n",
    "X_train, X_test, Y_train, Y_test = train_test_split(X, Y, test_size = 0.25, random_state = 21)"
   ]
  },
  {
   "cell_type": "markdown",
   "metadata": {},
   "source": [
    "# 1.1 Обучить модель без каких-либо дополнительных условий, которая должна наилучшим образом отработать на тестовой выборке преподавателя с точки зрения F-меры"
   ]
  },
  {
   "cell_type": "markdown",
   "metadata": {},
   "source": [
    "F-мера average =\n",
    "binary - результаты только для класса, указанного параметром pos_label\n",
    "micro - глобально, подсчитывая общее количество истинных срабатываний, ложноотрицательных и ложноположительных результатов\n",
    "macro - для каждой метки, находит их невзвешенное среднее значение\n",
    "weighted - для каждой метки, находит их взвешенное среднее значение"
   ]
  },
  {
   "cell_type": "code",
   "execution_count": 66,
   "metadata": {},
   "outputs": [],
   "source": [
    "import numpy as np\n",
    "import joblib\n",
    "\n",
    "from sklearn.linear_model import LogisticRegression\n",
    "from sklearn.neighbors import KNeighborsClassifier\n",
    "from sklearn.tree import DecisionTreeClassifier\n",
    "from sklearn.ensemble import RandomForestClassifier\n",
    "\n",
    "from sklearn.pipeline import Pipeline\n",
    "from sklearn.preprocessing import StandardScaler"
   ]
  },
  {
   "cell_type": "code",
   "execution_count": 67,
   "metadata": {},
   "outputs": [],
   "source": [
    "F_measure = {'LogisticRegression':0, \n",
    "             'KNeighborsClassifier':0, \n",
    "             'DecisionTreeClassifier':0,\n",
    "             'RandomForestClassifier':0 }"
   ]
  },
  {
   "cell_type": "code",
   "execution_count": 68,
   "metadata": {},
   "outputs": [],
   "source": [
    "Log = LogisticRegression()\n",
    "scaler = StandardScaler()\n",
    "\n",
    "X_train_M = scaler.fit_transform(X_train)\n",
    "X_test_M = scaler.transform(X_test)\n",
    "\n",
    "model_Log = LogisticRegression() \n",
    "model_Log.fit(X_train_M, Y_train)\n",
    "Y_Log = model_Log.predict(X_test_M)\n",
    "\n",
    "F_measure['LogisticRegression'] = f1_score(Y_test, Y_Log, average = \"weighted\")"
   ]
  },
  {
   "cell_type": "code",
   "execution_count": 69,
   "metadata": {},
   "outputs": [],
   "source": [
    "KNN = KNeighborsClassifier()\n",
    "scaler = StandardScaler()\n",
    "\n",
    "steps_KNN = [('normalizer', scaler), ('KNN', KNN)]\n",
    "pipe_KNN = Pipeline(steps_KNN)\n",
    "\n",
    "model_KNN = KNeighborsClassifier()\n",
    "model_KNN.fit(X_train, Y_train)\n",
    "Y_KNN = model_KNN.predict(X_test)\n",
    "\n",
    "F_measure['KNeighborsClassifier'] = f1_score(Y_test, Y_KNN, average = \"weighted\")"
   ]
  },
  {
   "cell_type": "code",
   "execution_count": 70,
   "metadata": {},
   "outputs": [],
   "source": [
    "DTC = DecisionTreeClassifier()\n",
    "scaler = StandardScaler()\n",
    "\n",
    "steps_DTC = [('normalizer', scaler), ('DTC', DTC)]\n",
    "pipe_DTC = Pipeline(steps_DTC)\n",
    "\n",
    "model_DTC = DecisionTreeClassifier()\n",
    "model_DTC.fit(X_train, Y_train)\n",
    "Y_DTC = model_DTC.predict(X_test)\n",
    "\n",
    "F_measure['DecisionTreeClassifier'] = f1_score(Y_test, Y_DTC, average = \"weighted\")"
   ]
  },
  {
   "cell_type": "code",
   "execution_count": 71,
   "metadata": {},
   "outputs": [],
   "source": [
    "RFC = RandomForestClassifier()\n",
    "scaler = StandardScaler()\n",
    "\n",
    "steps_RFC = [('normalizer', scaler), ('RFC', RFC)]\n",
    "pipe_RFC = Pipeline(steps_RFC)\n",
    "\n",
    "model_RFC = RandomForestClassifier()\n",
    "model_RFC.fit(X_train, Y_train)\n",
    "Y_RFC = model_RFC.predict(X_test)\n",
    "\n",
    "F_measure['RandomForestClassifier'] = f1_score(Y_test, Y_RFC, average = \"weighted\")"
   ]
  },
  {
   "cell_type": "code",
   "execution_count": 72,
   "metadata": {},
   "outputs": [
    {
     "name": "stdout",
     "output_type": "stream",
     "text": [
      "Model: LogisticRegression  F_measure: 0.9966666666666667\n",
      "Model: KNeighborsClassifier  F_measure: 0.9798202354201699\n",
      "Model: DecisionTreeClassifier  F_measure: 0.988295087033787\n",
      "Model: RandomForestClassifier  F_measure: 0.9983315321915928\n",
      "Best model: RandomForestClassifier  F_measure: 0.9983315321915928\n"
     ]
    }
   ],
   "source": [
    "maxim = -1\n",
    "for i, j in F_measure.items():\n",
    "    print ('Model:', i, ' F_measure:', j)\n",
    "    if j > maxim:\n",
    "        maxim = j\n",
    "        model_max = i\n",
    "        \n",
    "print ('Best model:', model_max, ' F_measure:', maxim)"
   ]
  },
  {
   "cell_type": "code",
   "execution_count": 73,
   "metadata": {},
   "outputs": [
    {
     "data": {
      "text/plain": [
       "['best_model-1.1.pkl']"
      ]
     },
     "execution_count": 73,
     "metadata": {},
     "output_type": "execute_result"
    }
   ],
   "source": [
    "joblib.dump(model_RFC, 'best_model-1.1.pkl')"
   ]
  },
  {
   "cell_type": "code",
   "execution_count": null,
   "metadata": {},
   "outputs": [],
   "source": []
  }
 ],
 "metadata": {
  "kernelspec": {
   "display_name": "Python 3 (ipykernel)",
   "language": "python",
   "name": "python3"
  },
  "language_info": {
   "codemirror_mode": {
    "name": "ipython",
    "version": 3
   },
   "file_extension": ".py",
   "mimetype": "text/x-python",
   "name": "python",
   "nbconvert_exporter": "python",
   "pygments_lexer": "ipython3",
   "version": "3.9.6"
  }
 },
 "nbformat": 4,
 "nbformat_minor": 1
}